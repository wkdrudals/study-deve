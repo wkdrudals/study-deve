{
 "cells": [
  {
   "cell_type": "markdown",
   "metadata": {},
   "source": [
    "# Day 10 - 머신러닝(4)"
   ]
  },
  {
   "cell_type": "code",
   "execution_count": 3,
   "metadata": {},
   "outputs": [
    {
     "name": "stdout",
     "output_type": "stream",
     "text": [
      "Collecting category_encoders\n",
      "  Obtaining dependency information for category_encoders from https://files.pythonhosted.org/packages/1f/e2/495811f12b2e90753fff0e42a07adb0370a725de17cc23a579ac9d3ca67c/category_encoders-2.6.2-py2.py3-none-any.whl.metadata\n",
      "  Downloading category_encoders-2.6.2-py2.py3-none-any.whl.metadata (8.0 kB)\n",
      "Requirement already satisfied: numpy>=1.14.0 in .\\.venv\\lib\\site-packages (from category_encoders) (1.26.0)\n",
      "Collecting scikit-learn>=0.20.0 (from category_encoders)\n",
      "  Obtaining dependency information for scikit-learn>=0.20.0 from https://files.pythonhosted.org/packages/f1/7d/2e562207176a5dcdad513085670674bb11ffaf37e1393eacb6d7fb502481/scikit_learn-1.3.1-cp311-cp311-win_amd64.whl.metadata\n",
      "  Downloading scikit_learn-1.3.1-cp311-cp311-win_amd64.whl.metadata (11 kB)\n",
      "Collecting scipy>=1.0.0 (from category_encoders)\n",
      "  Obtaining dependency information for scipy>=1.0.0 from https://files.pythonhosted.org/packages/81/d7/d2537d51efb692d0c411e64267ba349e7668d40f5bc73cefe78ccd650dcd/scipy-1.11.3-cp311-cp311-win_amd64.whl.metadata\n",
      "  Downloading scipy-1.11.3-cp311-cp311-win_amd64.whl.metadata (60 kB)\n",
      "     ---------------------------------------- 0.0/60.4 kB ? eta -:--:--\n",
      "     ------ --------------------------------- 10.2/60.4 kB ? eta -:--:--\n",
      "     ------------------------- ------------ 41.0/60.4 kB 326.8 kB/s eta 0:00:01\n",
      "     -------------------------------------- 60.4/60.4 kB 355.8 kB/s eta 0:00:00\n",
      "Collecting statsmodels>=0.9.0 (from category_encoders)\n",
      "  Downloading statsmodels-0.14.0-cp311-cp311-win_amd64.whl (9.2 MB)\n",
      "     ---------------------------------------- 0.0/9.2 MB ? eta -:--:--\n",
      "     ---------------------------------------- 0.1/9.2 MB 2.6 MB/s eta 0:00:04\n",
      "     ---------------------------------------- 0.1/9.2 MB 2.6 MB/s eta 0:00:04\n",
      "      --------------------------------------- 0.2/9.2 MB 1.3 MB/s eta 0:00:07\n",
      "     - -------------------------------------- 0.4/9.2 MB 2.0 MB/s eta 0:00:05\n",
      "     --- ------------------------------------ 0.8/9.2 MB 3.8 MB/s eta 0:00:03\n",
      "     ----- ---------------------------------- 1.2/9.2 MB 4.6 MB/s eta 0:00:02\n",
      "     ------- -------------------------------- 1.8/9.2 MB 5.5 MB/s eta 0:00:02\n",
      "     ----------- ---------------------------- 2.6/9.2 MB 6.9 MB/s eta 0:00:01\n",
      "     -------------- ------------------------- 3.3/9.2 MB 7.6 MB/s eta 0:00:01\n",
      "     ------------------ --------------------- 4.3/9.2 MB 8.6 MB/s eta 0:00:01\n",
      "     --------------------- ------------------ 4.9/9.2 MB 8.7 MB/s eta 0:00:01\n",
      "     -------------------------- ------------- 6.1/9.2 MB 9.7 MB/s eta 0:00:01\n",
      "     ------------------------------ --------- 7.0/9.2 MB 10.1 MB/s eta 0:00:01\n",
      "     ------------------------------- -------- 7.3/9.2 MB 10.1 MB/s eta 0:00:01\n",
      "     ----------------------------------- ---- 8.1/9.2 MB 10.5 MB/s eta 0:00:01\n",
      "     -------------------------------------- - 8.9/9.2 MB 10.7 MB/s eta 0:00:01\n",
      "     ---------------------------------------  9.2/9.2 MB 10.5 MB/s eta 0:00:01\n",
      "     ---------------------------------------  9.2/9.2 MB 10.5 MB/s eta 0:00:01\n",
      "     ---------------------------------------- 9.2/9.2 MB 9.3 MB/s eta 0:00:00\n",
      "Requirement already satisfied: pandas>=1.0.5 in .\\.venv\\lib\\site-packages (from category_encoders) (2.1.1)\n",
      "Collecting patsy>=0.5.1 (from category_encoders)\n",
      "  Downloading patsy-0.5.3-py2.py3-none-any.whl (233 kB)\n",
      "     ---------------------------------------- 0.0/233.8 kB ? eta -:--:--\n",
      "     -------------------------------------- 233.8/233.8 kB 7.0 MB/s eta 0:00:00\n",
      "Requirement already satisfied: python-dateutil>=2.8.2 in .\\.venv\\lib\\site-packages (from pandas>=1.0.5->category_encoders) (2.8.2)\n",
      "Requirement already satisfied: pytz>=2020.1 in .\\.venv\\lib\\site-packages (from pandas>=1.0.5->category_encoders) (2023.3.post1)\n",
      "Requirement already satisfied: tzdata>=2022.1 in .\\.venv\\lib\\site-packages (from pandas>=1.0.5->category_encoders) (2023.3)\n",
      "Requirement already satisfied: six in .\\.venv\\lib\\site-packages (from patsy>=0.5.1->category_encoders) (1.16.0)\n",
      "Collecting joblib>=1.1.1 (from scikit-learn>=0.20.0->category_encoders)\n",
      "  Obtaining dependency information for joblib>=1.1.1 from https://files.pythonhosted.org/packages/10/40/d551139c85db202f1f384ba8bcf96aca2f329440a844f924c8a0040b6d02/joblib-1.3.2-py3-none-any.whl.metadata\n",
      "  Downloading joblib-1.3.2-py3-none-any.whl.metadata (5.4 kB)\n",
      "Collecting threadpoolctl>=2.0.0 (from scikit-learn>=0.20.0->category_encoders)\n",
      "  Obtaining dependency information for threadpoolctl>=2.0.0 from https://files.pythonhosted.org/packages/81/12/fd4dea011af9d69e1cad05c75f3f7202cdcbeac9b712eea58ca779a72865/threadpoolctl-3.2.0-py3-none-any.whl.metadata\n",
      "  Downloading threadpoolctl-3.2.0-py3-none-any.whl.metadata (10.0 kB)\n",
      "Requirement already satisfied: packaging>=21.3 in .\\.venv\\lib\\site-packages (from statsmodels>=0.9.0->category_encoders) (23.2)\n",
      "Downloading category_encoders-2.6.2-py2.py3-none-any.whl (81 kB)\n",
      "   ---------------------------------------- 0.0/81.8 kB ? eta -:--:--\n",
      "   ---------------------------------------- 81.8/81.8 kB 4.5 MB/s eta 0:00:00\n",
      "Downloading scikit_learn-1.3.1-cp311-cp311-win_amd64.whl (9.2 MB)\n",
      "   ---------------------------------------- 0.0/9.2 MB ? eta -:--:--\n",
      "   ---- ----------------------------------- 1.0/9.2 MB 31.0 MB/s eta 0:00:01\n",
      "   ------ --------------------------------- 1.6/9.2 MB 20.0 MB/s eta 0:00:01\n",
      "   --------- ------------------------------ 2.2/9.2 MB 15.4 MB/s eta 0:00:01\n",
      "   ------------ --------------------------- 2.8/9.2 MB 16.1 MB/s eta 0:00:01\n",
      "   -------------- ------------------------- 3.3/9.2 MB 15.1 MB/s eta 0:00:01\n",
      "   ----------------- ---------------------- 4.1/9.2 MB 16.4 MB/s eta 0:00:01\n",
      "   --------------------- ------------------ 5.0/9.2 MB 15.8 MB/s eta 0:00:01\n",
      "   ------------------------ --------------- 5.7/9.2 MB 15.7 MB/s eta 0:00:01\n",
      "   ------------------------- -------------- 5.9/9.2 MB 14.6 MB/s eta 0:00:01\n",
      "   ----------------------------- ---------- 6.8/9.2 MB 15.0 MB/s eta 0:00:01\n",
      "   ------------------------------- -------- 7.2/9.2 MB 14.3 MB/s eta 0:00:01\n",
      "   -------------------------------- ------- 7.4/9.2 MB 13.5 MB/s eta 0:00:01\n",
      "   ----------------------------------- ---- 8.1/9.2 MB 13.6 MB/s eta 0:00:01\n",
      "   ---------------------------------------  9.2/9.2 MB 14.0 MB/s eta 0:00:01\n",
      "   ---------------------------------------  9.2/9.2 MB 14.0 MB/s eta 0:00:01\n",
      "   ---------------------------------------- 9.2/9.2 MB 12.5 MB/s eta 0:00:00\n",
      "Downloading scipy-1.11.3-cp311-cp311-win_amd64.whl (44.1 MB)\n",
      "   ---------------------------------------- 0.0/44.1 MB ? eta -:--:--\n",
      "   ---------------------------------------- 0.5/44.1 MB 16.2 MB/s eta 0:00:03\n",
      "   - -------------------------------------- 1.4/44.1 MB 14.3 MB/s eta 0:00:03\n",
      "   - -------------------------------------- 2.0/44.1 MB 14.4 MB/s eta 0:00:03\n",
      "   -- ------------------------------------- 3.3/44.1 MB 17.4 MB/s eta 0:00:03\n",
      "   --- ------------------------------------ 4.0/44.1 MB 16.8 MB/s eta 0:00:03\n",
      "   --- ------------------------------------ 4.2/44.1 MB 16.6 MB/s eta 0:00:03\n",
      "   ---- ----------------------------------- 5.2/44.1 MB 14.9 MB/s eta 0:00:03\n",
      "   ----- ---------------------------------- 6.0/44.1 MB 15.4 MB/s eta 0:00:03\n",
      "   ------ --------------------------------- 6.7/44.1 MB 15.4 MB/s eta 0:00:03\n",
      "   ------ --------------------------------- 6.8/44.1 MB 15.4 MB/s eta 0:00:03\n",
      "   ------ --------------------------------- 7.3/44.1 MB 13.7 MB/s eta 0:00:03\n",
      "   ------ --------------------------------- 7.7/44.1 MB 14.0 MB/s eta 0:00:03\n",
      "   ------ --------------------------------- 7.7/44.1 MB 14.0 MB/s eta 0:00:03\n",
      "   ------ --------------------------------- 7.7/44.1 MB 14.0 MB/s eta 0:00:03\n",
      "   ------ --------------------------------- 7.7/44.1 MB 14.0 MB/s eta 0:00:03\n",
      "   ------ --------------------------------- 7.7/44.1 MB 14.0 MB/s eta 0:00:03\n",
      "   ------ --------------------------------- 7.7/44.1 MB 14.0 MB/s eta 0:00:03\n",
      "   ------- -------------------------------- 8.2/44.1 MB 8.3 MB/s eta 0:00:05\n",
      "   -------- ------------------------------- 9.9/44.1 MB 9.6 MB/s eta 0:00:04\n",
      "   --------- ------------------------------ 10.0/44.1 MB 9.4 MB/s eta 0:00:04\n",
      "   --------- ------------------------------ 10.2/44.1 MB 8.8 MB/s eta 0:00:04\n",
      "   --------- ------------------------------ 10.6/44.1 MB 8.6 MB/s eta 0:00:04\n",
      "   ---------- ----------------------------- 11.2/44.1 MB 8.4 MB/s eta 0:00:04\n",
      "   ---------- ----------------------------- 11.6/44.1 MB 8.2 MB/s eta 0:00:04\n",
      "   ---------- ----------------------------- 11.9/44.1 MB 8.0 MB/s eta 0:00:05\n",
      "   ----------- ---------------------------- 12.8/44.1 MB 7.8 MB/s eta 0:00:05\n",
      "   ----------- ---------------------------- 12.9/44.1 MB 7.7 MB/s eta 0:00:05\n",
      "   ------------ --------------------------- 13.6/44.1 MB 7.4 MB/s eta 0:00:05\n",
      "   ------------- -------------------------- 14.6/44.1 MB 7.7 MB/s eta 0:00:04\n",
      "   ------------- -------------------------- 15.4/44.1 MB 7.8 MB/s eta 0:00:04\n",
      "   -------------- ------------------------- 16.1/44.1 MB 7.6 MB/s eta 0:00:04\n",
      "   --------------- ------------------------ 16.6/44.1 MB 7.7 MB/s eta 0:00:04\n",
      "   --------------- ------------------------ 17.2/44.1 MB 7.9 MB/s eta 0:00:04\n",
      "   ---------------- ----------------------- 18.3/44.1 MB 11.3 MB/s eta 0:00:03\n",
      "   ----------------- ---------------------- 18.9/44.1 MB 11.1 MB/s eta 0:00:03\n",
      "   ----------------- ---------------------- 19.6/44.1 MB 10.6 MB/s eta 0:00:03\n",
      "   ------------------ --------------------- 20.6/44.1 MB 12.1 MB/s eta 0:00:02\n",
      "   ------------------- -------------------- 21.6/44.1 MB 13.4 MB/s eta 0:00:02\n",
      "   -------------------- ------------------- 22.6/44.1 MB 14.9 MB/s eta 0:00:02\n",
      "   --------------------- ------------------ 23.5/44.1 MB 15.6 MB/s eta 0:00:02\n",
      "   --------------------- ------------------ 23.8/44.1 MB 15.2 MB/s eta 0:00:02\n",
      "   ---------------------- ----------------- 24.6/44.1 MB 14.9 MB/s eta 0:00:02\n",
      "   ----------------------- ---------------- 25.4/44.1 MB 15.2 MB/s eta 0:00:02\n",
      "   ----------------------- ---------------- 25.8/44.1 MB 14.6 MB/s eta 0:00:02\n",
      "   ------------------------ --------------- 26.7/44.1 MB 14.6 MB/s eta 0:00:02\n",
      "   ------------------------ --------------- 27.1/44.1 MB 14.6 MB/s eta 0:00:02\n",
      "   ------------------------ --------------- 27.5/44.1 MB 14.2 MB/s eta 0:00:02\n",
      "   ------------------------- -------------- 27.7/44.1 MB 13.6 MB/s eta 0:00:02\n",
      "   ------------------------- -------------- 27.7/44.1 MB 13.6 MB/s eta 0:00:02\n",
      "   ------------------------- -------------- 27.7/44.1 MB 13.6 MB/s eta 0:00:02\n",
      "   ------------------------- -------------- 28.0/44.1 MB 10.9 MB/s eta 0:00:02\n",
      "   ------------------------- -------------- 28.2/44.1 MB 10.6 MB/s eta 0:00:02\n",
      "   ------------------------- -------------- 28.2/44.1 MB 10.6 MB/s eta 0:00:02\n",
      "   ------------------------- -------------- 28.2/44.1 MB 10.6 MB/s eta 0:00:02\n",
      "   ------------------------- -------------- 28.2/44.1 MB 10.6 MB/s eta 0:00:02\n",
      "   ------------------------- -------------- 28.3/44.1 MB 8.1 MB/s eta 0:00:02\n",
      "   --------------------------- ------------ 29.9/44.1 MB 8.7 MB/s eta 0:00:02\n",
      "   --------------------------- ------------ 30.2/44.1 MB 8.4 MB/s eta 0:00:02\n",
      "   ---------------------------- ----------- 31.0/44.1 MB 8.5 MB/s eta 0:00:02\n",
      "   ---------------------------- ----------- 31.7/44.1 MB 8.3 MB/s eta 0:00:02\n",
      "   ----------------------------- ---------- 32.3/44.1 MB 8.2 MB/s eta 0:00:02\n",
      "   ----------------------------- ---------- 32.3/44.1 MB 8.2 MB/s eta 0:00:02\n",
      "   ----------------------------- ---------- 32.3/44.1 MB 8.2 MB/s eta 0:00:02\n",
      "   ----------------------------- ---------- 32.5/44.1 MB 7.4 MB/s eta 0:00:02\n",
      "   ----------------------------- ---------- 32.5/44.1 MB 7.1 MB/s eta 0:00:02\n",
      "   ----------------------------- ---------- 33.1/44.1 MB 6.9 MB/s eta 0:00:02\n",
      "   ------------------------------- -------- 34.2/44.1 MB 6.9 MB/s eta 0:00:02\n",
      "   ------------------------------- -------- 34.4/44.1 MB 7.0 MB/s eta 0:00:02\n",
      "   ------------------------------- -------- 34.4/44.1 MB 7.0 MB/s eta 0:00:02\n",
      "   ------------------------------- -------- 34.6/44.1 MB 6.5 MB/s eta 0:00:02\n",
      "   -------------------------------- ------- 35.8/44.1 MB 6.2 MB/s eta 0:00:02\n",
      "   -------------------------------- ------- 36.2/44.1 MB 6.2 MB/s eta 0:00:02\n",
      "   -------------------------------- ------- 36.2/44.1 MB 6.2 MB/s eta 0:00:02\n",
      "   --------------------------------- ------ 36.6/44.1 MB 5.8 MB/s eta 0:00:02\n",
      "   --------------------------------- ------ 37.1/44.1 MB 5.7 MB/s eta 0:00:02\n",
      "   ---------------------------------- ----- 38.2/44.1 MB 6.7 MB/s eta 0:00:01\n",
      "   ---------------------------------- ----- 38.5/44.1 MB 8.5 MB/s eta 0:00:01\n",
      "   ----------------------------------- ---- 38.9/44.1 MB 8.2 MB/s eta 0:00:01\n",
      "   ------------------------------------ --- 39.8/44.1 MB 8.0 MB/s eta 0:00:01\n",
      "   ------------------------------------ --- 40.4/44.1 MB 8.2 MB/s eta 0:00:01\n",
      "   ------------------------------------ --- 40.7/44.1 MB 7.9 MB/s eta 0:00:01\n",
      "   ------------------------------------- -- 41.1/44.1 MB 7.7 MB/s eta 0:00:01\n",
      "   ------------------------------------- -- 41.6/44.1 MB 7.6 MB/s eta 0:00:01\n",
      "   ------------------------------------- -- 41.7/44.1 MB 7.7 MB/s eta 0:00:01\n",
      "   -------------------------------------- - 42.3/44.1 MB 7.4 MB/s eta 0:00:01\n",
      "   ---------------------------------------  43.1/44.1 MB 8.6 MB/s eta 0:00:01\n",
      "   ---------------------------------------  44.1/44.1 MB 9.4 MB/s eta 0:00:01\n",
      "   ---------------------------------------  44.1/44.1 MB 9.4 MB/s eta 0:00:01\n",
      "   ---------------------------------------  44.1/44.1 MB 9.4 MB/s eta 0:00:01\n",
      "   ---------------------------------------  44.1/44.1 MB 9.4 MB/s eta 0:00:01\n",
      "   ---------------------------------------  44.1/44.1 MB 9.4 MB/s eta 0:00:01\n",
      "   ---------------------------------------- 44.1/44.1 MB 7.2 MB/s eta 0:00:00\n",
      "Downloading joblib-1.3.2-py3-none-any.whl (302 kB)\n",
      "   ---------------------------------------- 0.0/302.2 kB ? eta -:--:--\n",
      "   --------------------------------------- 302.2/302.2 kB 19.5 MB/s eta 0:00:00\n",
      "Downloading threadpoolctl-3.2.0-py3-none-any.whl (15 kB)\n",
      "Installing collected packages: threadpoolctl, scipy, patsy, joblib, scikit-learn, statsmodels, category_encoders\n",
      "Successfully installed category_encoders-2.6.2 joblib-1.3.2 patsy-0.5.3 scikit-learn-1.3.1 scipy-1.11.3 statsmodels-0.14.0 threadpoolctl-3.2.0\n"
     ]
    }
   ],
   "source": [
    "!pip install category_encoders"
   ]
  },
  {
   "cell_type": "code",
   "execution_count": 4,
   "metadata": {},
   "outputs": [],
   "source": [
    "import numpy as np \n",
    "import pandas as pd\n",
    "\n",
    "import category_encoders as ce # encoding 모듈 사용"
   ]
  },
  {
   "cell_type": "markdown",
   "metadata": {},
   "source": [
    "- 범주형 데이터를 연속형,이산형 데이터와 다르게 표현할 수 있는지에 대한 테크닉\n",
    "- 범주형 데이터 => 숫자형 데이터 \n",
    "    - 순서형 데이터를 인코딩안하고 명목형 데이터만 인코딩하면 이산형 데이터로 인식됨\n",
    "    - 순서형과 명목형 데이터 인코딩법이 다르기도 함.(선택적)\n",
    "- cleaning 후 encoding\n",
    "<br>\n",
    "<br>\n",
    "- 데이터 인코딩 분류\n",
    "    - Norminal Encoding : 순서형\n",
    "        - One hot encoding : 크기표현 x (딥러닝에서 많이 사용하는 기법) / nunique개수가 적으면 사용<br>\n",
    "            - 결측치가 무조건 없어야 실행가능<br>\n",
    "            - red가 green보다 3배 작다라는 크기비교를 안하게 하는것(장점:명확하게 구분가능)<br>\n",
    "            - 데이터가 3개인데 위 기법을 사용하면 연산을 9번해야함.(기하급수적으로 늘어남)<br>\n",
    "                => 메모리 차지가 커진다.(단점)<br>\n",
    "        - Mean Encoding : 각각의 요소에 대한 평균값으로 인코딩<br>\n",
    "<br>\n",
    "    - Ordinal Encoding : 명목형<br>\n",
    "        - label Encoding : computer가 label을 인식하든 말든 endoing실행<br>\n",
    "        - Target Encoding : target을 모듈(target을 기준으로 평균 / mean+labe encoding)<br>\n",
    "        - Ordinal Encoding : 순서매기기 (label이랑 비슷함)\n",
    "\n"
   ]
  },
  {
   "cell_type": "code",
   "execution_count": 5,
   "metadata": {},
   "outputs": [
    {
     "data": {
      "text/html": [
       "<div>\n",
       "<style scoped>\n",
       "    .dataframe tbody tr th:only-of-type {\n",
       "        vertical-align: middle;\n",
       "    }\n",
       "\n",
       "    .dataframe tbody tr th {\n",
       "        vertical-align: top;\n",
       "    }\n",
       "\n",
       "    .dataframe thead th {\n",
       "        text-align: right;\n",
       "    }\n",
       "</style>\n",
       "<table border=\"1\" class=\"dataframe\">\n",
       "  <thead>\n",
       "    <tr style=\"text-align: right;\">\n",
       "      <th></th>\n",
       "      <th>color</th>\n",
       "    </tr>\n",
       "  </thead>\n",
       "  <tbody>\n",
       "    <tr>\n",
       "      <th>0</th>\n",
       "      <td>Red</td>\n",
       "    </tr>\n",
       "    <tr>\n",
       "      <th>1</th>\n",
       "      <td>Blue</td>\n",
       "    </tr>\n",
       "    <tr>\n",
       "      <th>2</th>\n",
       "      <td>Green</td>\n",
       "    </tr>\n",
       "  </tbody>\n",
       "</table>\n",
       "</div>"
      ],
      "text/plain": [
       "   color\n",
       "0    Red\n",
       "1   Blue\n",
       "2  Green"
      ]
     },
     "execution_count": 5,
     "metadata": {},
     "output_type": "execute_result"
    }
   ],
   "source": [
    "data = {'color': ['Red', 'Blue', 'Green']}\n",
    "df = pd.DataFrame(data) \n",
    "df.head()"
   ]
  },
  {
   "cell_type": "code",
   "execution_count": 6,
   "metadata": {},
   "outputs": [
    {
     "name": "stderr",
     "output_type": "stream",
     "text": [
      "c:\\dev\\pandas\\.venv\\Lib\\site-packages\\category_encoders\\utils.py:28: FutureWarning: is_categorical_dtype is deprecated and will be removed in a future version. Use isinstance(dtype, CategoricalDtype) instead\n",
      "  elif pd.api.types.is_categorical_dtype(cols):\n",
      "c:\\dev\\pandas\\.venv\\Lib\\site-packages\\category_encoders\\utils.py:50: FutureWarning: is_categorical_dtype is deprecated and will be removed in a future version. Use isinstance(dtype, CategoricalDtype) instead\n",
      "  return pd.api.types.is_categorical_dtype(dtype)\n",
      "c:\\dev\\pandas\\.venv\\Lib\\site-packages\\category_encoders\\utils.py:50: FutureWarning: is_categorical_dtype is deprecated and will be removed in a future version. Use isinstance(dtype, CategoricalDtype) instead\n",
      "  return pd.api.types.is_categorical_dtype(dtype)\n",
      "c:\\dev\\pandas\\.venv\\Lib\\site-packages\\category_encoders\\utils.py:50: FutureWarning: is_categorical_dtype is deprecated and will be removed in a future version. Use isinstance(dtype, CategoricalDtype) instead\n",
      "  return pd.api.types.is_categorical_dtype(dtype)\n",
      "c:\\dev\\pandas\\.venv\\Lib\\site-packages\\category_encoders\\utils.py:50: FutureWarning: is_categorical_dtype is deprecated and will be removed in a future version. Use isinstance(dtype, CategoricalDtype) instead\n",
      "  return pd.api.types.is_categorical_dtype(dtype)\n"
     ]
    },
    {
     "data": {
      "text/html": [
       "<div>\n",
       "<style scoped>\n",
       "    .dataframe tbody tr th:only-of-type {\n",
       "        vertical-align: middle;\n",
       "    }\n",
       "\n",
       "    .dataframe tbody tr th {\n",
       "        vertical-align: top;\n",
       "    }\n",
       "\n",
       "    .dataframe thead th {\n",
       "        text-align: right;\n",
       "    }\n",
       "</style>\n",
       "<table border=\"1\" class=\"dataframe\">\n",
       "  <thead>\n",
       "    <tr style=\"text-align: right;\">\n",
       "      <th></th>\n",
       "      <th>color_Red</th>\n",
       "      <th>color_Blue</th>\n",
       "      <th>color_Green</th>\n",
       "    </tr>\n",
       "  </thead>\n",
       "  <tbody>\n",
       "    <tr>\n",
       "      <th>0</th>\n",
       "      <td>1</td>\n",
       "      <td>0</td>\n",
       "      <td>0</td>\n",
       "    </tr>\n",
       "    <tr>\n",
       "      <th>1</th>\n",
       "      <td>0</td>\n",
       "      <td>1</td>\n",
       "      <td>0</td>\n",
       "    </tr>\n",
       "    <tr>\n",
       "      <th>2</th>\n",
       "      <td>0</td>\n",
       "      <td>0</td>\n",
       "      <td>1</td>\n",
       "    </tr>\n",
       "  </tbody>\n",
       "</table>\n",
       "</div>"
      ],
      "text/plain": [
       "   color_Red  color_Blue  color_Green\n",
       "0          1           0            0\n",
       "1          0           1            0\n",
       "2          0           0            1"
      ]
     },
     "execution_count": 6,
     "metadata": {},
     "output_type": "execute_result"
    }
   ],
   "source": [
    "# encoder 인스턴스 생성\n",
    "# 인스턴스에는 변수와 함수가 있다\n",
    "encoder = ce.OneHotEncoder(use_cat_names=True) # 인코딩 객체 만들어짐.\n",
    "\n",
    "# 학습\n",
    "encoder.fit(df)\n",
    "# 반영\n",
    "# transform을 사용하기전에 꼭 fit()을 실행해야한다. (fit 먼저 실행 후 transform실행)\n",
    "df_encoded = encoder.transform(df)\n",
    "# => df_encoded = encoder.fit_transform(df) # 인코딩 객체가 fit, transform....\n",
    "\n",
    "df_encoded.head() # transform 결과 보기"
   ]
  },
  {
   "cell_type": "markdown",
   "metadata": {},
   "source": [
    "***\n",
    "#### 예제"
   ]
  },
  {
   "cell_type": "code",
   "execution_count": 7,
   "metadata": {},
   "outputs": [
    {
     "data": {
      "text/plain": [
       "(891, 8)"
      ]
     },
     "execution_count": 7,
     "metadata": {},
     "output_type": "execute_result"
    }
   ],
   "source": [
    "import seaborn as sns\n",
    "\n",
    "df = sns.load_dataset('titanic')\n",
    "cols = [\"age\",\"sibsp\",\"parch\",\"fare\",\"pclass\",\"sex\",\"embarked\", \"survived\"]\n",
    "\n",
    "df = df[cols]\n",
    "df.shape "
   ]
  },
  {
   "cell_type": "code",
   "execution_count": 8,
   "metadata": {},
   "outputs": [
    {
     "data": {
      "text/plain": [
       "((712, 8), (179, 8))"
      ]
     },
     "execution_count": 8,
     "metadata": {},
     "output_type": "execute_result"
    }
   ],
   "source": [
    "from sklearn.model_selection import train_test_split\n",
    "SEED=42\n",
    "\n",
    "train, test = train_test_split(df, random_state=SEED, test_size=0.2)\n",
    "\n",
    "train.shape, test.shape"
   ]
  },
  {
   "cell_type": "code",
   "execution_count": 9,
   "metadata": {},
   "outputs": [
    {
     "data": {
      "text/plain": [
       "0"
      ]
     },
     "execution_count": 9,
     "metadata": {},
     "output_type": "execute_result"
    }
   ],
   "source": [
    "# 결측치 제거\n",
    "train.age = train.age.fillna(train.age.mean())\n",
    "test.age = test.age.fillna(train.age.mean())\n",
    "\n",
    "train['embarked'] = train.embarked.fillna(train.embarked.mode().values[0])\n",
    "test.embarked = test.embarked.fillna(train.embarked.mode().values[0])\n",
    "\n",
    "train.isnull().sum().sum()"
   ]
  },
  {
   "cell_type": "code",
   "execution_count": 10,
   "metadata": {},
   "outputs": [
    {
     "data": {
      "text/plain": [
       "((712, 2), (712,))"
      ]
     },
     "execution_count": 10,
     "metadata": {},
     "output_type": "execute_result"
    }
   ],
   "source": [
    "cols = [\"age\",\"fare\"]\n",
    "features_tr = train[cols]\n",
    "target_tr = train[\"survived\"]\n",
    "features_te = test[cols]\n",
    "target_te = test[\"survived\"]\n",
    "\n",
    "features_tr.shape, target_tr.shape\n",
    "# 수치형 분리"
   ]
  },
  {
   "cell_type": "code",
   "execution_count": 11,
   "metadata": {},
   "outputs": [
    {
     "data": {
      "text/plain": [
       "(712, 5)"
      ]
     },
     "execution_count": 11,
     "metadata": {},
     "output_type": "execute_result"
    }
   ],
   "source": [
    "cols_encoding = [\"pclass\",\"sex\",\"embarked\",\"sibsp\",\"parch\"]\n",
    "tmp_tr = train[cols_encoding]\n",
    "tmp_te = test[cols_encoding]\n",
    "\n",
    "tmp_tr.shape \n",
    "# 범주형만 분리해서 encoding / train, test 파일 둘다 encoding"
   ]
  },
  {
   "cell_type": "code",
   "execution_count": null,
   "metadata": {},
   "outputs": [],
   "source": [
    "enco_tr = pd.DataFrame()\n",
    "enco_te = pd.DataFrame()\n",
    "\n",
    "for col in tmp_tr.columns:\n",
    "#학습\n",
    "    encoder.fit_transform(tmp_tr[col].astype('category'))\n",
    "\n",
    "# 반영\n",
    "# train 반영\n",
    "    _enco = encoder.transform(tmp_tr[col].astype('category'))\n",
    "\n",
    "# 기존 데이터에 인코딩된 데이터를 추가\n",
    "    enco_tr = pd.concat([enco_tr, _enco], axis=1)\n",
    "\n",
    "# test 반영\n",
    "    _enco = encoder.transform(tmp_te[col].astype('category'))\n",
    "    \n",
    "    enco_te = pd.concat([enco_te, _enco], axis=1) #기존 데이터에 인코딩된 데이터를 추가\n",
    "\n",
    "print(f'{enco_tr.shape} / {enco_te.shape}')\n",
    "enco_tr.head()"
   ]
  }
 ],
 "metadata": {
  "kernelspec": {
   "display_name": ".venv",
   "language": "python",
   "name": "python3"
  },
  "language_info": {
   "codemirror_mode": {
    "name": "ipython",
    "version": 3
   },
   "file_extension": ".py",
   "mimetype": "text/x-python",
   "name": "python",
   "nbconvert_exporter": "python",
   "pygments_lexer": "ipython3",
   "version": "3.11.5"
  }
 },
 "nbformat": 4,
 "nbformat_minor": 2
}
