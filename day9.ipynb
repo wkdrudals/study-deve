{
 "cells": [
  {
   "cell_type": "markdown",
   "metadata": {},
   "source": [
    "***\n",
    "# Day 9 - 머신러닝(3)"
   ]
  },
  {
   "cell_type": "markdown",
   "metadata": {},
   "source": [
    "### 범주형 데이터 분석\n",
    "```py\n",
    "df_object = df_object.join(df_number['survived']) # survived 추가\n",
    "df_object['survived'] = df_object['survived'].astype('object') \n",
    "# 데이터 타입 변경 /object 부분은 다른걸로 넣어서 결과값 도출\n",
    "df_object.info().\n",
    "```\n",
    "\n",
    "freq 최빈값의 실제 발생 숫자\n",
    "normalize : %으로 변경\n",
    "\n",
    "#### 교차분석\n",
    "- crosstab\n",
    "\n"
   ]
  },
  {
   "cell_type": "markdown",
   "metadata": {},
   "source": [
    "***\n",
    "### Data cleaning\n",
    "\n",
    "- 결측치 처리 (결측치 = null) missing value\n",
    "    - 값이 없는 것 \n",
    "    - NaN: Not a Number (숫자가 아닌) ex. 연산은 하고싶은데 숫자가 아닌 문자일 때\n",
    "    - Null: 아무것도 존재하지 않음\n",
    "    - undefined: 정의되어 있지 않음\n",
    "    - 0 : 연산이 된다. null은 아님.\n",
    "\n",
    "- 결측치 유형 파악 (결측치 왜 발생했는지?)\n",
    "    - 완전 무작위 결측 : 우연히 발생(의도한게 아닌)\n",
    "        - 체중을 대답을 안하는 \n",
    "    - 무작위 결측 : 특정 feature가 발생할 때도 있고 아닐 때도 있다. random하게 결측치 발생\n",
    "        - 다른 feature에 따라 값이 바뀐다.\n",
    "    - 비무작위 결측 : 사람의 의도대로 일부러 안넣은 것 \n",
    "        - 응답하는걸 피한다.\n",
    "\n",
    "- 결측치 탐색(확인하는 방법)\n",
    "    - info()함수 사용 : \n",
    "    - isnull().sum().sum() : 전체 결측치 수\n",
    "    - isnull().sum().sort_values(ascending=False) : 각 컬럼별 결측치 수\n",
    "        - ascending  높은것부터 거꾸로 정렬 false\n",
    "    - 정확한 해석할려면 비율로 처리★\n",
    "    ```PY\n",
    "    - (X_tr.isnull().sum() / X_tr.shape[0]).round(4).sort_values(ascending=False) \n",
    "      # 각 컬럼별 결측치 비율\n",
    "    ```\n",
    "    결측치가 발생하면 아래처럼 처리<br>\n",
    "    수치형  mean / 범주형 mode\n",
    "\n",
    "- 결측치 구간화\n",
    "```py\n",
    "tmp_train['age_cut'] = pd.cut(tmp_train['age'], bins=4, labels=list(range(1,5)))\n",
    "# 나이를 기준으로 자른것 => 절대평가(pd.cut) / bins = 4(숫자만 바꾸면됨)\n",
    "tmp_train['age_qcut'] = pd.qcut(tmp_train['age'], q=4, labels=list(range(1,5)))\n",
    "# 전체 데이터를 생각하고 자른것 => 상대평가(pd.qcut) (면적을 고려해서 나눈 것)\n",
    "```\n",
    "- 결측치 처리\n",
    "    - 결측치가 50%넘으면 제거할지말지 고려\n",
    "    - 제거 / 치환 / 모델 기반 처리\n",
    "    - df.dropna() : 제거\n",
    "        - df.dropna(axis=0): row 삭제 (data 양이 줄어든다. 많은 데이터가 날라가서 잘 안씀)\n",
    "        - df.dropna(axis=1): column 삭제 (data 양이 적게 줄어든다.)\n",
    "        - df[['컬럼명']].dropna(axis=1): column 삭제\n",
    "        - df.dropna(subset=['원하는 행']): 원하는 행의 결측값이 있는 부분을 기준으로 \n",
    "    - df.fillna() : 치환 (ffill / bfill)\n",
    "        - df[['컬럼명']].fillna(원하는 값): 원하는 값으로 채우기\n",
    "        - df[['컬럼명']].fillna(method='ffill'): 결측값을 앞방향의 값으로 채운다.\n",
    "        - df[['컬럼명']].fillna(method='bfill'): 결측값을 뒤방향의 값으로 채운다.\n",
    "        - np.where(pd.notnull(df['null값보유컬럼']==True, df['null값보유컬럼],df['null값없는컬럼'])\n",
    "    - apply()\n",
    "\n",
    "- 불확정성 원리로 인한 오류발생 감소(데이터 훼손 down) => random화 해서 실행\n",
    "    - 평균값이 올라감.\n",
    "```py\n",
    "X_tr['age_random'] = X_tr['age']\n",
    "\n",
    "# random sampling\n",
    "random_sampling = (X_tr['age'].dropna().sample(X_tr['age'].isnull().sum()))\n",
    "# dropna() 하면, 결측치 제거 / random으로 sampling / \n",
    "# sampling개수 필요 (결측치 개수만큼 => isnull.sum()으로 결측치 알아내서 sampling)\n",
    "random_sampling.index = X_tr[lambda x: x['age'].isnull()].index # index 부여\n",
    "# 결측치에 대한 index값 \n",
    "\n",
    "# NA imputation\n",
    "X_tr.loc[X_tr['age'].isnull(), 'age_random'] = random_sampling\n",
    "# 새로운 컬럼에 결측치 값을 주입 loc(row/col)기입해서 실행\n",
    "\n",
    "# 확인\n",
    "X_tr[['age', 'age_random']].isnull().sum()\n",
    "```"
   ]
  },
  {
   "cell_type": "markdown",
   "metadata": {},
   "source": [
    "-test data\n",
    "train data에서 sampling (train data를 가지고 결측치를 채워야함)\n",
    "```py\n",
    "X_te['age_random'] = X_te['age']\n",
    "\n",
    "# random sampling\n",
    "random_sampling = (X_tr['age'].dropna().sample(X_te['age'].isnull().sum()))\n",
    "random_sampling.index = X_te[lambda x: x['age'].isnull()].index # index 부여\n",
    "\n",
    "# NA imputation\n",
    "X_te.loc[X_te['age'].isnull(), 'age_random'] = random_sampling\n",
    "\n",
    "# 확인\n",
    "print(X_te[['age', 'age_random']].isnull().sum())\n",
    "\n",
    "# 분포 시각화\n",
    "fig, ax = plt.subplots(figsize=(10,6))\n",
    "\n",
    "X_te['age'].plot(kind='kde', ax=ax, color='blue')\n",
    "X_te['age_random'].plot(kind='kde', ax=ax, color='brown')\n",
    "\n",
    "lines, labels = ax.get_legend_handles_labels()\n",
    "ax.legend(lines, labels, loc='best')\n",
    "```\n",
    "\n",
    "- NA를 drop 여부 false / True\n",
    "X_tr['embarked'].value_counts(dropna=False)\n",
    "\n"
   ]
  },
  {
   "cell_type": "code",
   "execution_count": null,
   "metadata": {},
   "outputs": [],
   "source": [
    "X_tr['hasDeck'] = X_tr['deck'].isnull().apply(lambda x: 0 if x == True else 1)\n",
    "# . 단위로 끊어서 보기/ null이면 true 0 / deck있으면 1 없으면 0\n",
    "X_tr['hasAge'] = X_tr['age'].isnull().apply(lambda x: 0 if x == True else 1)"
   ]
  },
  {
   "cell_type": "markdown",
   "metadata": {},
   "source": [
    "#### SimpleImputer (수치형)"
   ]
  },
  {
   "cell_type": "code",
   "execution_count": null,
   "metadata": {},
   "outputs": [],
   "source": [
    "from sklearn.impute import SimpleImputer #class import\n",
    "\n",
    "# strategy = mean, median, most_frequent\n",
    "imputer = SimpleImputer(strategy=\"mean\") #평균으로 자동으로 채워줌\n",
    "\n",
    "X_tr['age_simple_mean'] = imputer.fit_transform(X_tr[[\"age\"]]) \n",
    "#인스턴스/(X_tr[[\"age\"]])의 데이터로 학습을 하고 해당결과 바탕으로 새로운 변수에 치환\n",
    "#fit 학습 => train data로 실행\n",
    "X_te['age_simple_mean'] = imputer.transform(X_te[[\"age\"]])\n",
    "# 학습을 안하고 채움 => train data의 학습한 데이터로 결측치를 채운다.\n",
    "\n",
    "X_tr[['age', 'age_simple_mean']].isnull().sum()"
   ]
  },
  {
   "cell_type": "markdown",
   "metadata": {},
   "source": [
    "#### 모델 기반 - KNNImputer (수치형)"
   ]
  },
  {
   "cell_type": "code",
   "execution_count": null,
   "metadata": {},
   "outputs": [],
   "source": [
    "from sklearn.impute import KNNImputer\n",
    "\n",
    "imputer = KNNImputer(n_neighbors=5)  #인스턴스 생성 /5개의 데이터만으로 결측치 채움\n",
    "# 결측치 주변으로 가까운 데이터를 고려해서 값을 추출\n",
    "\n",
    "X_tr['age_knn'] = imputer.fit_transform(X_tr[[\"age\"]])\n",
    "X_te['age_knn'] = imputer.transform(X_te[[\"age\"]])\n"
   ]
  },
  {
   "cell_type": "markdown",
   "metadata": {},
   "source": [
    "#### IterativeImpute  모델 기반"
   ]
  },
  {
   "cell_type": "code",
   "execution_count": null,
   "metadata": {},
   "outputs": [],
   "source": [
    "from sklearn.experimental import enable_iterative_imputer\n",
    "from sklearn.impute import IterativeImputer\n",
    "\n",
    "imputer = IterativeImputer(random_state=SEED)\n",
    "\n",
    "X_tr['age_iter_none'] = imputer.fit_transform(X_tr[[\"age\"]])\n",
    "X_te['age_iter_none'] = imputer.transform(X_te[[\"age\"]])\n",
    "\n",
    "X_tr[['age', 'age_iter_none']].isnull().sum()"
   ]
  },
  {
   "cell_type": "markdown",
   "metadata": {},
   "source": [
    "#### RandomForestRegressor"
   ]
  },
  {
   "cell_type": "code",
   "execution_count": null,
   "metadata": {},
   "outputs": [],
   "source": [
    "from sklearn.ensemble import RandomForestRegressor\n",
    "\n",
    "imputer = IterativeImputer(estimator=RandomForestRegressor(verbose=0, random_state=SEED),\n",
    "max_iter=10, verbose=0, imputation_order='ascending', random_state=SEED)\n",
    "\n",
    "X_tr['age_iter_none'] = imputer.fit_transform(X_tr[[\"age\"]])\n",
    "X_te['age_iter_none'] = imputer.transform(X_te[[\"age\"]])\n",
    "\n",
    "X_tr[['age', 'age_iter_none']].isnull().sum()"
   ]
  },
  {
   "cell_type": "markdown",
   "metadata": {},
   "source": [
    "#### 비대칭 데이터\n",
    "\n",
    "- log함수를 쓰면 이상치도 괜찮아짐.\n",
    "- 데이터가 한쪽으로 쏠린현상을 down"
   ]
  },
  {
   "cell_type": "code",
   "execution_count": null,
   "metadata": {},
   "outputs": [],
   "source": [
    "df[\"fare\"] = df[\"fare\"].map(lambda i: np.log(i) if i > 0 else 0) \n",
    "# log를 이용하여 비대칭 처리\n",
    "sns.displot(df[\"fare\"], color=\"b\", label=\"Skewness : %.2f\"%(df[\"fare\"].skew()))"
   ]
  },
  {
   "cell_type": "markdown",
   "metadata": {},
   "source": [
    "#### 이상치 처리"
   ]
  },
  {
   "cell_type": "code",
   "execution_count": null,
   "metadata": {},
   "outputs": [],
   "source": [
    "quantiles = df['age'].quantile([0.25, 0.75]).values\n",
    "\n",
    "IQR = quantiles[1] - quantiles[0]\n",
    "Upper_boundary = quantiles[1] + 1.5*IQR\n",
    "Lower_boundary = quantiles[0] - 1.5*IQR\n",
    "print('age outliers are values < {lowerboundary} or > {upperboundary}'.format(lowerboundary=Lower_boundary, upperboundary=Upper_boundary))"
   ]
  },
  {
   "cell_type": "code",
   "execution_count": null,
   "metadata": {},
   "outputs": [],
   "source": [
    "cond1 = df['age'] > Upper_boundary\n",
    "cond2 = df['age'] < Lower_boundary\n",
    "\n",
    "cond = cond1 | cond2\n",
    "outlier = df.loc[cond]\n",
    "print(outlier.shape, df.shape)\n",
    "outlier.head()"
   ]
  },
  {
   "cell_type": "markdown",
   "metadata": {},
   "source": [
    "***\n",
    "#### Feature Extraction\n",
    "\n",
    "- 서로 독립적이면 category (상관관계 뚜렷하지 않음)\n",
    "- category : object보다 작음\n"
   ]
  },
  {
   "cell_type": "code",
   "execution_count": null,
   "metadata": {},
   "outputs": [],
   "source": [
    "# survived\n",
    "X_tr[\"survived\"] = X_tr[\"survived\"].astype(\"int32\") #사이즈를 줄임 int32\n",
    "X_te[\"survived\"] = X_te[\"survived\"].astype(\"int32\")"
   ]
  },
  {
   "cell_type": "code",
   "execution_count": null,
   "metadata": {},
   "outputs": [],
   "source": [
    "X_tr[\"pclass\"] = X_tr[\"pclass\"].astype(\"category\") #숫자가 아닌 형태인경우\n",
    "X_te[\"pclass\"] = X_te[\"pclass\"].astype(\"category\")"
   ]
  },
  {
   "cell_type": "markdown",
   "metadata": {},
   "source": [
    "#### 문자열"
   ]
  },
  {
   "cell_type": "markdown",
   "metadata": {},
   "source": [
    "이름, 티켓은 수치,범주형 둘다 x\n",
    "호칭안에 직업,결혼유무 등 분석가능\n",
    "series => map / matrix => apply"
   ]
  },
  {
   "cell_type": "code",
   "execution_count": null,
   "metadata": {},
   "outputs": [],
   "source": [
    "# 공백제거 : strip사용 / 처리하기전에 간단하게 clening 작업\n",
    "X_tr[\"name\"] = X_tr[\"name\"].map(lambda x: x.strip())\n",
    "X_tr[\"ticket\"] = X_tr[\"ticket\"].map(lambda x: x.strip())\n",
    "\n",
    "X_te[\"name\"] = X_te[\"name\"].map(lambda x: x.strip())\n",
    "X_te[\"ticket\"] = X_te[\"ticket\"].map(lambda x: x.strip())"
   ]
  },
  {
   "cell_type": "code",
   "execution_count": null,
   "metadata": {},
   "outputs": [],
   "source": [
    "dict_designation = {\n",
    "    'Mr.': '남성',\n",
    "    'Master.': '남성',\n",
    "    'Sir.': '남성',\n",
    "    'Miss.': '미혼 여성',\n",
    "    'Mrs.': '기혼 여성',\n",
    "    'Ms.': '미혼/기혼 여성',\n",
    "    'Lady.': '숙녀',\n",
    "    'Mlle.': '아가씨',\n",
    "    # 직업\n",
    "    'Dr.': '의사',\n",
    "    'Rev.': '목사',\n",
    "    'Major.': '계급',\n",
    "    'Don.': '교수',\n",
    "    'Col.': '군인',\n",
    "    'Capt.': '군인',\n",
    "    # 귀족\n",
    "    'Mme.': '영부인',\n",
    "    'Countess.': '백작부인',\n",
    "    'Jonkheer.': '귀족'\n",
    "}\n",
    "\n",
    "def add_designation(name): # 호칭 함수\n",
    "  designation = \"unknown\"\n",
    "  for key in dict_designation.keys():\n",
    "    if key in name:\n",
    "      designation = key #key가 있으면 designation으로 대체한다.\n",
    "      break\n",
    "  return designation\n",
    "\n",
    "X_tr['designation'] = X_tr['name'].map(lambda x: add_designation(x))\n",
    "X_te['designation'] = X_te['name'].map(lambda x: add_designation(x))\n",
    "\n",
    "X_tr.head()"
   ]
  },
  {
   "cell_type": "markdown",
   "metadata": {},
   "source": [
    "***\n",
    "# Feature Extraction"
   ]
  },
  {
   "cell_type": "markdown",
   "metadata": {},
   "source": [
    "- grouby(), pivot으로 feature생성"
   ]
  },
  {
   "cell_type": "code",
   "execution_count": null,
   "metadata": {},
   "outputs": [],
   "source": [
    "def sub_age(age):\n",
    "  return age // 10 #10대 20대 30대식으로 feauture 추출\n",
    "\n",
    "X_tr['sub_age'] = X_tr['age'].map(lambda x: sub_age(x))\n",
    "X_te['sub_age'] = X_te['age'].map(lambda x: sub_age(x))\n",
    "X_tr.head()"
   ]
  },
  {
   "cell_type": "code",
   "execution_count": null,
   "metadata": {},
   "outputs": [],
   "source": [
    "\n",
    "def add_sub_embarked(row):\n",
    "  return str(row['embarked']) + str(row['pclass']) + str(row['sibsp']) + str(row['parch'])\n",
    "\n",
    "X_tr['sub_embarked'] = X_tr.apply(lambda row: add_sub_embarked(row), axis=1)\n",
    "X_te['sub_embarked'] = X_te.apply(lambda row: add_sub_embarked(row), axis=1)\n",
    "X_tr.head()"
   ]
  }
 ],
 "metadata": {
  "kernelspec": {
   "display_name": ".venv",
   "language": "python",
   "name": "python3"
  },
  "language_info": {
   "codemirror_mode": {
    "name": "ipython",
    "version": 3
   },
   "file_extension": ".py",
   "mimetype": "text/x-python",
   "name": "python",
   "nbconvert_exporter": "python",
   "pygments_lexer": "ipython3",
   "version": "3.11.5"
  }
 },
 "nbformat": 4,
 "nbformat_minor": 2
}
